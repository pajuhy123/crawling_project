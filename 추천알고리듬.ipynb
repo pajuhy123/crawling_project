{
 "cells": [
  {
   "cell_type": "code",
   "execution_count": 11,
   "metadata": {
    "collapsed": true
   },
   "outputs": [],
   "source": [
    "from math import sqrt\n",
    "\n",
    "critics = {\n",
    "    '김지훈': {\n",
    "        '우동가조쿠': 4.5,\n",
    "        '행운돈까스': 3.5,\n",
    "        '신소재공학관 교직원식당': 2.0,\n",
    "        '맥도날드':4.0,\n",
    "        '종로 빈대떡': 3.0,\n",
    "    },\n",
    "\n",
    "    '권현우': {\n",
    "        '우동가조쿠': 3.0,\n",
    "        '봉구스밥버거': 5.0,\n",
    "        '금룡': 4.5,\n",
    "    },\n",
    "\n",
    "    '박준형': {\n",
    "        '우동가조쿠': 5.0,\n",
    "        '행운돈까스': 4.3,\n",
    "        '와와':4.8,        \n",
    "        '봉구스밥버거': 5.0,\n",
    "    },\n",
    "\n",
    "    '정승환': {\n",
    "        '행운돈까스': 4.9,\n",
    "        '신소재공학관 교직원식당': 4.0,\n",
    "        '와와':4.8,        \n",
    "        '봉구스밥버거': 4.0,\n",
    "        '금룡':3.5\n",
    "        \n",
    "    },\n",
    "\n",
    "    '홍순현': {\n",
    "        '우동가조쿠': 5.0,\n",
    "        '신소재공학관 교직원식당': 4.0,\n",
    "        '봉구스밥버거': 4.0,\n",
    "        '종로 빈대떡': 4.0,\n",
    "        '금룡' : 4.0,\n",
    "        '와와':4.0,\n",
    "        '맥도날드':3.5,\n",
    "        '행운돈까스':4.0\n",
    "    },\n",
    "\n",
    "    '강태욱': {\n",
    "        '우동가조쿠': 4.8,\n",
    "        '행운돈까스': 2.0,\n",
    "        '와와':1.4,        \n",
    "        '봉구스밥버거': 2.0,\n",
    "        '금룡': 2.5,\n",
    "    },\n",
    "\n",
    "    '함규식': {\n",
    "        '행운돈까스': 4.5,\n",
    "        '신소재공학관 교직원식당': 4.0,\n",
    "        '금룡': 3.5,\n",
    "        '봉구스밥버거': 4.5,\n",
    "        '고져스키친':1.0,\n",
    "    },\n",
    " \n",
    "    '전민종': {\n",
    "        '우동가조쿠': 3.0,\n",
    "        '행운돈까스': 1.0,\n",
    "        '신소재공학관 교직원식당': 1.0,\n",
    "        '봉구스밥버거': 2.0,\n",
    "        '금룡': 1.0,\n",
    "    },\n",
    "    \n",
    "    '윤영록': {\n",
    "        '금룡':3.5,\n",
    "        '고져스키친': 4.0,\n",
    "        '행운돈까스':3.0,\n",
    "    },\n",
    "    \n",
    "    '김규민': {\n",
    "        '우동가조쿠': 3.5,\n",
    "        '행운돈까스': 5.0,\n",
    "        '신소재공학관 교직원식당': 2.0,\n",
    "    },\n",
    "    \n",
    "   \n",
    "}\n",
    "\n",
    "\n",
    "# Euclidean Distance\n",
    "def sim_distance(prefs, person1, person2):\n",
    "    # 공통 항목 추출\n",
    "    si = dict()\n",
    "\n",
    "    for item in prefs[person1]:\n",
    "        if item in prefs[person2]:\n",
    "            si[item] = 1\n",
    "\n",
    "    # 공통 평가 항목이 없는 경우 0 리턴\n",
    "    if len(si) == 0: return 0\n",
    "\n",
    "    # person1의 item이 person2에서도 존재한다면, person1과 person2의 item 평점 차이의 제곱한 값을 더한 후 제곱 근을 계산\n",
    "    sum_of_squares = sum([(prefs[person1][item] - prefs[person2][item])**2 for item in prefs[person1] if item in prefs[person2]])\n",
    "\n",
    "    return 1/(1+sqrt(sum_of_squares))\n",
    "\n",
    "# Pearson correlation coefficient\n",
    "def sim_pearson(prefs, p1, p2):\n",
    "    # 같이 평가한 항목들의 목록을 구함\n",
    "    si = dict()\n",
    "\n",
    "    for item in prefs[p1]:\n",
    "        if item in prefs[p2]: si[item] = 1\n",
    "\n",
    "    # 공통 항목 개수\n",
    "    n = len(si)\n",
    "\n",
    "    # 공통 항목이 없으면 0 리턴\n",
    "    if n==0: return 0\n",
    "\n",
    "    # 모든 선호도를 합산\n",
    "    sum1 = sum([prefs[p1][it] for it in si])\n",
    "    sum2 = sum([prefs[p2][it] for it in si])\n",
    "\n",
    "    # 제곱의 합을 계산\n",
    "    sum1Sq = sum([(prefs[p1][it])**2 for it in si])\n",
    "    sum2Sq = sum([(prefs[p2][it])**2 for it in si])\n",
    "\n",
    "    # 곱의 합을 계산\n",
    "    pSum = sum([prefs[p1][it] * prefs[p2][it] for it in si])\n",
    "\n",
    "    # 피어슨 점수 계산\n",
    "    num = pSum - (sum1*sum2/n)\n",
    "    den = sqrt((sum1Sq-pow(sum1,2)/n) * (sum2Sq-pow(sum2,2)/n))\n",
    "    if den==0: return 0\n",
    "\n",
    "    r = num/den\n",
    "\n",
    "    return r\n"
   ]
  },
  {
   "cell_type": "code",
   "execution_count": 13,
   "metadata": {},
   "outputs": [],
   "source": [
    "\n",
    "# 선호도 dict에 최적의 상대편을 구함\n",
    "# 결과 개수와 유사도 함수는 옵션\n",
    "def top_matches(prefs, person, n=5, similarity=sim_pearson):\n",
    "    scores = [(similarity(prefs, person, other), other) for other in prefs if other!=person]\n",
    "\n",
    "    scores.sort()\n",
    "    scores.reverse()\n",
    "    return scores[:n]\n",
    "\n",
    "# 다른 사람과의 순위의 가중 평균값을 이용해서 특정 사람을 추천\n",
    "def get_recommendations(prefs, person, similarity=sim_pearson):\n",
    "    totals = dict()\n",
    "    simSums = dict()\n",
    "    \n",
    "    for other in prefs:\n",
    "        # 나를 제외 하고\n",
    "        if other == person: continue\n",
    "        sim = similarity(prefs, person, other)  # person과 other 사이의 상관계수 점수를 구함\n",
    "\n",
    "        # 0 이하 점수는 무시\n",
    "        if sim<=0: continue\n",
    "\n",
    "        for item in prefs[other]:   # ohter가  가본 식당들의 list\n",
    "            # 내가 가보지 못한 식당만 대상\n",
    "            if item not in prefs[person] or prefs[person][item] == 0:\n",
    "                # 유사도 * 점수\n",
    "                totals.setdefault(item, 0)\n",
    "                totals[item] += prefs[other][item]*sim  # other가 평가한 식당의 점수 * person과 other의 상관계수\n",
    "\n",
    "                # 유사도 합계\n",
    "                simSums.setdefault(item, 0)\n",
    "                simSums[item] += sim\n",
    "             \n",
    "    #1 사용자가 모든 식당을 이용했을 경우//  사용자가 DB에 있는 모든 식당을 이용하고 평가를 했다면, 추천 해줄 식당이 없다. !\n",
    "    #2 상관계수 점수가 0보다 작은 사람만 있을 경우도 추천 해줄 식당이 없다.\n",
    "    #3  1 + 2의 경우가 합쳐진 경우\n",
    "   \n",
    "    # 정규화된 목록 생성\n",
    "    rankings = [ (total/simSums[item], item) for item, total in totals.items() ]\n",
    "    \n",
    "    #반환할 목록이 없다면 에러메세지 출력하고 종료\n",
    "    if rankings ==[]:\n",
    "        error_message =\"죄송합니다. 데이터 부족으로 인해서 , 추천 서비스를 이용하실 수 없습니다.  업데이트를 기다려 주세요.^^\"\n",
    "        return error_message\n",
    "\n",
    "    # 정렬된 목록 리턴\n",
    "    rankings.sort()\n",
    "    rankings.reverse()\n",
    "    \n",
    "    \n",
    "    \n",
    "    #추정 평가가 3.5점 이상인 식당만 반환\n",
    "    new_rankings=[]\n",
    "    for item in rankings:\n",
    "        if item[0] > 3.5 :\n",
    "             new_rankings.append(item)\n",
    "                \n",
    "    #3.5 이상의 추천 맛집이  없을 경우\n",
    "    if new_rankings ==[]:\n",
    "        error_message =\" 사용자님이 원하실만한 식당이 부족합니다..  업데이트를 기다려주세요.^^\"\n",
    "        return error_message\n",
    "    \n",
    "    return new_rankings\n",
    "\n",
    "# 사람을 제품 기준으로 dict 변경\n",
    "def transform_prefs(prefs):\n",
    "    result = dict()\n",
    "\n",
    "    for person in prefs:\n",
    "        for item in prefs[person]:\n",
    "            result.setdefault(item, dict())\n",
    "\n",
    "            result[item][person] = prefs[person][item]\n",
    "\n",
    "    return result"
   ]
  },
  {
   "cell_type": "code",
   "execution_count": 15,
   "metadata": {},
   "outputs": [
    {
     "name": "stdout",
     "output_type": "stream",
     "text": [
      "정승환 and 김지훈 0.2905869199892622\n",
      "정승환 and 권현우 0.4142135623730951\n",
      "정승환 and 박준형 0.4616399415807224\n",
      "정승환 and 정승환 1.0\n",
      "정승환 and 홍순현 0.4340578300578996\n",
      "정승환 and 강태욱 0.1667500667275592\n",
      "정승환 and 함규식 0.6096399597571442\n",
      "정승환 and 전민종 0.14555481316723456\n",
      "정승환 and 윤영록 0.3448275862068965\n",
      "정승환 and 김규민 0.3330559599501922\n"
     ]
    }
   ],
   "source": [
    "#유사거리\n",
    "for item in critics: \n",
    "     print (\"정승환 and\",  item, sim_distance(critics, '정승환', item))\n",
    "\n"
   ]
  },
  {
   "cell_type": "code",
   "execution_count": 17,
   "metadata": {},
   "outputs": [
    {
     "name": "stdout",
     "output_type": "stream",
     "text": [
      "정승환 김지훈 0.9999999999999997\n",
      "정승환 권현우 1.0\n",
      "정승환 박준형 -0.7871464784293108\n",
      "정승환 정승환 1.0\n",
      "정승환 홍순현 0\n",
      "정승환 강태욱 -0.7758405947503793\n",
      "정승환 함규식 0.7762058642344947\n",
      "정승환 전민종 -0.11433239009500695\n",
      "정승환 윤영록 -0.9999999999999919\n",
      "정승환 김규민 0.999999999999997\n"
     ]
    }
   ],
   "source": [
    "#피어슨 상관계수\n",
    "\n",
    "for item in critics:\n",
    "    print (\"정승환\", item, sim_pearson(critics, \"정승환\", item))\n",
    "\n"
   ]
  },
  {
   "cell_type": "code",
   "execution_count": 19,
   "metadata": {},
   "outputs": [
    {
     "name": "stdout",
     "output_type": "stream",
     "text": [
      "정승환 and 권현우 1.0\n",
      "정승환 and 김지훈 0.9999999999999997\n",
      "정승환 and 김규민 0.999999999999997\n",
      "정승환 and 함규식 0.7762058642344947\n",
      "정승환 and 홍순현 0\n"
     ]
    }
   ],
   "source": [
    "#나와 유사 평론가 순위\n",
    "for score, other in top_matches(critics, \"정승환\"): \n",
    "    print (\"정승환 and\", other, score)\n",
    "\n"
   ]
  },
  {
   "cell_type": "code",
   "execution_count": 20,
   "metadata": {},
   "outputs": [
    {
     "name": "stdout",
     "output_type": "stream",
     "text": [
      "정승환 and 김지훈 1.0\n",
      "정승환 and 권현우 1.0\n",
      "정승환 and 박준형 -0.79\n",
      "정승환 and 홍순현 0\n",
      "정승환 and 강태욱 -0.78\n",
      "정승환 and 함규식 0.78\n",
      "정승환 and 전민종 -0.11\n",
      "정승환 and 윤영록 -1.0\n",
      "정승환 and 김규민 1.0\n"
     ]
    }
   ],
   "source": [
    "#소수점 2번쨰 자리까지\n",
    "for item in [item for item in critics if item!=\"정승환\"]: \n",
    "    print (\"정승환 and\", item, round(sim_pearson(critics, \"정승환\", item),2))\n"
   ]
  },
  {
   "cell_type": "code",
   "execution_count": 23,
   "metadata": {},
   "outputs": [
    {
     "name": "stdout",
     "output_type": "stream",
     "text": [
      "맥도날드 3.84\n"
     ]
    }
   ],
   "source": [
    " #항목 추천, 피어슨 상관계수 기반\n",
    "for score, item in get_recommendations(critics, \"정승환\"): \n",
    "    print (item, round(score,2))\n",
    "\n"
   ]
  },
  {
   "cell_type": "code",
   "execution_count": 25,
   "metadata": {},
   "outputs": [
    {
     "name": "stdout",
     "output_type": "stream",
     "text": [
      "우동가조쿠 4.2\n",
      "맥도날드 3.7\n",
      "종로 빈대떡 3.6\n"
     ]
    }
   ],
   "source": [
    "#항목 추천, 유클리디안 거리 기반\n",
    "for score, item in get_recommendations(critics, \"정승환\", similarity=sim_distance): \n",
    "    print (item, round(score,2))\n",
    "\n"
   ]
  },
  {
   "cell_type": "code",
   "execution_count": 490,
   "metadata": {},
   "outputs": [
    {
     "name": "stdout",
     "output_type": "stream",
     "text": [
      "행운돈까스 0.98\n",
      "우동가조쿠 0.97\n",
      "봉구스밥버거 0.95\n",
      "금룡 0.85\n",
      "종로 빈대떡 0\n"
     ]
    }
   ],
   "source": [
    "#제품 추천, // 냉면을 좋아하는 사람은 라면이나 짬뽕을 좋아하는 경향이 있다, \n",
    "transformed = transform_prefs(critics) \n",
    "for score, item in top_matches(transformed, \"와와\"): \n",
    "    print (item, round(score,2))\n",
    "\n"
   ]
  },
  {
   "cell_type": "code",
   "execution_count": 26,
   "metadata": {},
   "outputs": [
    {
     "name": "stdout",
     "output_type": "stream",
     "text": [
      "[(3.704112527987195, '와와'), (3.5936590293433426, '봉구스밥버거')]\n",
      "[(3.843881332669246, '맥도날드')]\n",
      "[(4.0, '맥도날드'), (3.666666666666667, '우동가조쿠')]\n",
      "죄송합니다. 데이터 부족으로 인해서 , 추천 서비스를 이용하실 수 없습니다.  업데이트를 기다려 주세요.^^\n",
      "[(4.8, '와와'), (4.7, '행운돈까스'), (4.0, '신소재공학관 교직원식당')]\n",
      "[(3.7392659623604487, '맥도날드'), (3.521468075279102, '종로 빈대떡')]\n",
      "[(4.8, '와와'), (4.0, '맥도날드'), (3.567821611530458, '우동가조쿠')]\n",
      "[(4.0, '고져스키친'), (3.755679863711353, '맥도날드')]\n",
      "[(4.8, '우동가조쿠')]\n",
      "[(4.8, '와와'), (4.25, '봉구스밥버거'), (4.0, '맥도날드')]\n"
     ]
    }
   ],
   "source": [
    "#총 출력 결과\n",
    "\n",
    "print(get_recommendations(critics, \"김지훈\"))\n",
    "print(get_recommendations(critics, \"박준형\"))\n",
    "print(get_recommendations(critics, \"정승환\"))\n",
    "print(get_recommendations(critics, \"홍순현\"))\n",
    "print(get_recommendations(critics, \"권현우\"))\n",
    "print(get_recommendations(critics, \"전민종\"))\n",
    "print(get_recommendations(critics, \"함규식\"))\n",
    "print(get_recommendations(critics, \"강태욱\"))\n",
    "print(get_recommendations(critics, \"윤영록\"))\n",
    "print(get_recommendations(critics, \"김규민\"))\n"
   ]
  },
  {
   "cell_type": "code",
   "execution_count": 35,
   "metadata": {},
   "outputs": [],
   "source": [
    "# 취향 저격 식당 보여주기\n",
    "def show_recommendations(person, prefs = critics, n=1) :\n",
    "    item = get_recommendations(prefs, person)\n",
    "    if not type(item) == str:\n",
    "          for x in range(len(item)):\n",
    "            print(n, item[x][1])\n",
    "            n+=1\n",
    "    else: print(item)\n",
    "    "
   ]
  },
  {
   "cell_type": "code",
   "execution_count": 43,
   "metadata": {},
   "outputs": [
    {
     "name": "stdout",
     "output_type": "stream",
     "text": [
      "1 맥도날드\n",
      "2 우동가조쿠\n"
     ]
    }
   ],
   "source": [
    "show_recommendations('정승환')"
   ]
  }
 ],
 "metadata": {
  "kernelspec": {
   "display_name": "Python 3",
   "language": "python",
   "name": "python3"
  },
  "language_info": {
   "codemirror_mode": {
    "name": "ipython",
    "version": 3
   },
   "file_extension": ".py",
   "mimetype": "text/x-python",
   "name": "python",
   "nbconvert_exporter": "python",
   "pygments_lexer": "ipython3",
   "version": "3.6.1"
  }
 },
 "nbformat": 4,
 "nbformat_minor": 2
}
